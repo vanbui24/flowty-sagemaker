{
 "cells": [
  {
   "cell_type": "code",
   "execution_count": null,
   "metadata": {},
   "outputs": [],
   "source": [
    "# Vehicle Routing Problem with Time Windows\n",
    "from flowty import Model, xsum\n",
    "from or_datasets import vrp_rep\n",
    "\n",
    "import boto3\n",
    "import json"
   ]
  },
  {
   "cell_type": "code",
   "execution_count": null,
   "metadata": {},
   "outputs": [],
   "source": [
    "#get json file input_data\n",
    "bucket_name = 'flowty-sagemaker'\n",
    "json_file = 'input/inputdata.json'"
   ]
  },
  {
   "cell_type": "code",
   "execution_count": null,
   "metadata": {},
   "outputs": [],
   "source": [
    "#initiate s3 session\n",
    "S3_client = boto3.client('s3',\n",
    ")"
   ]
  },
  {
   "cell_type": "code",
   "execution_count": null,
   "metadata": {},
   "outputs": [],
   "source": [
    "#get json file\n",
    "response = S3_client.get_object(Bucket=bucket_name, Key=json_file)\n",
    "content = response['Body']\n",
    "jsonObject = json.loads(content.read())"
   ]
  },
  {
   "cell_type": "code",
   "execution_count": null,
   "metadata": {},
   "outputs": [],
   "source": [
    "#assign alias\n",
    "keys = jsonObject.keys()\n",
    "iter_keys = iter(keys)\n",
    "alias = next(iter_keys)"
   ]
  },
  {
   "cell_type": "code",
   "execution_count": null,
   "metadata": {},
   "outputs": [],
   "source": [
    "#assign instance_name\n",
    "values = jsonObject.values()\n",
    "iter_values = iter(values)\n",
    "instance_name = next(iter_values)"
   ]
  },
  {
   "cell_type": "code",
   "execution_count": null,
   "metadata": {},
   "outputs": [],
   "source": [
    "#\n",
    "bunch = vrp_rep.fetch_vrp_rep(alias, instance=instance_name)\n",
    "name, n, E, c, d, Q, t, a, b, x, y = bunch[\"instance\"]"
   ]
  },
  {
   "cell_type": "code",
   "execution_count": null,
   "metadata": {},
   "outputs": [],
   "source": [
    "m = Model()"
   ]
  },
  {
   "cell_type": "code",
   "execution_count": null,
   "metadata": {},
   "outputs": [],
   "source": [
    "# one graph, it is identical for all vehicles\n",
    "g = m.addGraph(obj=c, edges=E, source=0, sink=n - 1, L=1, U=n - 2, type=\"B\")"
   ]
  },
  {
   "cell_type": "code",
   "execution_count": null,
   "metadata": {},
   "outputs": [],
   "source": [
    "# adds resources variables to the graph.\n",
    "# travel time and customer tine windows\n",
    "m.addResourceDisposable(\n",
    "    graph=g, consumptionType=\"E\", weight=t, boundsType=\"V\", lb=a, ub=b, name=\"t\"\n",
    ")"
   ]
  },
  {
   "cell_type": "code",
   "execution_count": null,
   "metadata": {},
   "outputs": [],
   "source": [
    "# demand and capacity\n",
    "m.addResourceDisposable(\n",
    "    graph=g, consumptionType=\"V\", weight=d, boundsType=\"V\", lb=0, ub=Q, name=\"d\"\n",
    ")"
   ]
  },
  {
   "cell_type": "code",
   "execution_count": null,
   "metadata": {},
   "outputs": [],
   "source": [
    "# set partition constriants\n",
    "for i in range(n)[1:-1]:\n",
    "    m += xsum(x * 1 for x in g.vars if i == x.source) == 1"
   ]
  },
  {
   "cell_type": "code",
   "execution_count": null,
   "metadata": {},
   "outputs": [],
   "source": [
    "# packing set\n",
    "for i in range(n)[1:-1]:\n",
    "    m.addPackingSet([x for x in g.vars if i == x.source])"
   ]
  },
  {
   "cell_type": "code",
   "execution_count": null,
   "metadata": {},
   "outputs": [],
   "source": [
    "status = m.optimize()\n",
    "print(f\"ObjectiveValue {m.objectiveValue}\")"
   ]
  },
  {
   "cell_type": "code",
   "execution_count": null,
   "metadata": {},
   "outputs": [],
   "source": [
    "# get the variable values\n",
    "for var in m.vars:\n",
    "    if var.x > 0:\n",
    "        print(f\"{var.name} = {var.x}\")"
   ]
  },
  {
   "cell_type": "code",
   "execution_count": null,
   "metadata": {},
   "outputs": [],
   "source": [
    "### output variable_values as json file in s3 bucket subfolder###\n",
    "\n",
    "#create dict populate dict\n",
    "variable_values = {}\n",
    "for var in m.vars:\n",
    "    if var.x > 0:\n",
    "        variable_values[var.name] = var.x\n",
    "\n",
    "data = {\"objective value\":m.objectiveValue, \"variable values\":variable_values}"
   ]
  },
  {
   "cell_type": "code",
   "execution_count": null,
   "metadata": {},
   "outputs": [],
   "source": [
    "#save dict\n",
    "with open(name+'.json', 'w') as fp:\n",
    "    json.dump(data, fp, indent=4)\n",
    "\n",
    "#upload json object to s3 bucket in output subfolder\n",
    "bucket_name = \"flowty-sagemaker\"\n",
    "key = name+\".json\"  #filename\n",
    "\n",
    "S3_client.put_object(\n",
    "     Body=str(json.dumps(data, indent=4)),\n",
    "     Bucket=bucket_name,\n",
    "     Key=\"output/\"+key\n",
    ")"
   ]
  },
  {
   "cell_type": "code",
   "execution_count": null,
   "metadata": {},
   "outputs": [],
   "source": [
    "### visualization and save in s3 bucket ###\n",
    "import math\n",
    "import networkx\n",
    "import matplotlib\n",
    "import matplotlib.pyplot as plt\n",
    "\n",
    "edges = [x.edge for x in g.vars if not math.isclose(x.x, 0, abs_tol=0.001)]\n",
    "gx = networkx.DiGraph()\n",
    "gx.add_nodes_from([i for i in range(n)])\n",
    "gx.add_edges_from(edges)\n",
    "pos = {i: (x[i], y[i]) for i in range(n)} # for lists of x,y coordinates\n",
    "# pos = networkx.spring_layout(gx) # alternative layout\n",
    "networkx.draw_networkx_nodes(gx, pos, nodelist=gx.nodes)\n",
    "networkx.draw_networkx_labels(gx, pos, labels={i: i for i in gx.nodes})\n",
    "networkx.draw_networkx_edges(gx, pos, nodelist=gx.edges)\n",
    "# plt.show() # if gui backend is supported\n",
    "plt.savefig(\"mygraph.png\")\n",
    "\n",
    "#upload visualization to s3 bucket in output subfolder\n",
    "S3_client.upload_file(\n",
    "     \"mygraph.png\",\n",
    "     bucket_name,\n",
    "     \"output/\"+\"mygraph.png\"\n",
    ")"
   ]
  },
  {
   "cell_type": "code",
   "execution_count": null,
   "metadata": {},
   "outputs": [],
   "source": []
  },
  {
   "cell_type": "code",
   "execution_count": null,
   "metadata": {},
   "outputs": [],
   "source": []
  },
  {
   "cell_type": "code",
   "execution_count": null,
   "metadata": {},
   "outputs": [],
   "source": []
  },
  {
   "cell_type": "code",
   "execution_count": null,
   "metadata": {},
   "outputs": [],
   "source": []
  },
  {
   "cell_type": "code",
   "execution_count": null,
   "metadata": {},
   "outputs": [],
   "source": []
  },
  {
   "cell_type": "code",
   "execution_count": null,
   "metadata": {},
   "outputs": [],
   "source": []
  },
  {
   "cell_type": "code",
   "execution_count": null,
   "metadata": {},
   "outputs": [],
   "source": []
  },
  {
   "cell_type": "code",
   "execution_count": null,
   "metadata": {},
   "outputs": [],
   "source": []
  },
  {
   "cell_type": "code",
   "execution_count": null,
   "metadata": {},
   "outputs": [],
   "source": []
  },
  {
   "cell_type": "code",
   "execution_count": null,
   "metadata": {},
   "outputs": [],
   "source": []
  }
 ],
 "metadata": {
  "kernelspec": {
   "display_name": "Python 3",
   "language": "python",
   "name": "python3"
  },
  "language_info": {
   "codemirror_mode": {
    "name": "ipython",
    "version": 3
   },
   "file_extension": ".py",
   "mimetype": "text/x-python",
   "name": "python",
   "nbconvert_exporter": "python",
   "pygments_lexer": "ipython3",
   "version": "3.7.6"
  }
 },
 "nbformat": 4,
 "nbformat_minor": 4
}
