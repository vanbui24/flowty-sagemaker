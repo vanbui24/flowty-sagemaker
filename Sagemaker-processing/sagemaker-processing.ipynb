{
 "cells": [
  {
   "cell_type": "code",
   "execution_count": null,
   "metadata": {
    "scrolled": true
   },
   "outputs": [],
   "source": [
    "from sagemaker.processing import ScriptProcessor, ProcessingOutput\n",
    "\n",
    "##SET image_uri from ECR IMAGE_URI:sagemaker-processing-image\n",
    "IMAGE_URI = '015670528421.dkr.ecr.eu-north-1.amazonaws.com/sagemaker-processing:sagemaker-processing-image'\n",
    "#SET role_arn\n",
    "ROLE_ARN = 'arn:aws:iam::015670528421:role/service-role/AmazonSageMaker-ExecutionRole-20210426T143624'"
   ]
  },
  {
   "cell_type": "code",
   "execution_count": null,
   "metadata": {
    "scrolled": true
   },
   "outputs": [],
   "source": [
    "script_processor = ScriptProcessor(command=['python3'],\n",
    "                                   image_uri=IMAGE_URI,\n",
    "                                   role=ROLE_ARN,\n",
    "                                   instance_count=1,\n",
    "                                   instance_type='ml.m5.xlarge')"
   ]
  },
  {
   "cell_type": "code",
   "execution_count": null,
   "metadata": {
    "scrolled": true
   },
   "outputs": [],
   "source": [
    "%%writefile processing.py\n",
    "import sys\n",
    "\n",
    "# Convert command line args into a map of args\n",
    "args_iter = iter(sys.argv[1:])\n",
    "args = dict(zip(args_iter, args_iter))\n",
    "\n",
    "\n",
    "# Vehicle Routing Problem with Time Window\n",
    "from flowty import Model, xsum\n",
    "from or_datasets import vrp_rep\n",
    "import os         \n",
    "import pandas as pd\n",
    "\n",
    "#bunch = vrp_rep.fetch_vrp_rep(\"solomon-1987-r1\", instance=\"R102_025\")\n",
    "bunch = vrp_rep.fetch_vrp_rep(args['alias'], instance=args['instance'])\n",
    "name, n, E, c, d, Q, t, a, b, x, y = bunch[\"instance\"]\n",
    "\n",
    "m = Model()\n",
    "\n",
    "# one graph, it is identical for all vehicles\n",
    "g = m.addGraph(obj=c, edges=E, source=0, sink=n - 1, L=1, U=n - 2, type=\"B\")\n",
    "\n",
    "# adds resources variables to the graph.\n",
    "# travel time and customer tine windows\n",
    "m.addResourceDisposable(\n",
    "    graph=g, consumptionType=\"E\", weight=t, boundsType=\"V\", lb=a, ub=b, name=\"t\"\n",
    ")\n",
    "\n",
    "# demand and capacity\n",
    "m.addResourceDisposable(\n",
    "    graph=g, consumptionType=\"V\", weight=d, boundsType=\"V\", lb=0, ub=Q, name=\"d\"\n",
    ")\n",
    "\n",
    "# set partition constriants\n",
    "for i in range(n)[1:-1]:\n",
    "    m += xsum(x * 1 for x in g.vars if i == x.source) == 1\n",
    "\n",
    "# packing set\n",
    "for i in range(n)[1:-1]:\n",
    "    m.addPackingSet([x for x in g.vars if i == x.source])\n",
    "\n",
    "status = m.optimize()\n",
    "print(f\"ObjectiveValue {m.objectiveValue}\")\n",
    "\n",
    "# get the variable values\n",
    "for var in m.vars:\n",
    "    if var.x > 0:\n",
    "        print(f\"{var.name} = {var.x}\")\n",
    "\n",
    "import math\n",
    "import networkx\n",
    "import matplotlib\n",
    "import matplotlib.pyplot as plt\n",
    "\n",
    "edges = [x.edge for x in g.vars if not math.isclose(x.x, 0, abs_tol=0.001)]\n",
    "gx = networkx.DiGraph()\n",
    "gx.add_nodes_from([i for i in range(n)])\n",
    "gx.add_edges_from(edges)\n",
    "pos = {i: (x[i], y[i]) for i in range(n)} # for lists of x,y coordinates\n",
    "# pos = networkx.spring_layout(gx) # alternative layout\n",
    "networkx.draw_networkx_nodes(gx, pos, nodelist=gx.nodes)\n",
    "networkx.draw_networkx_labels(gx, pos, labels={i: i for i in gx.nodes})\n",
    "networkx.draw_networkx_edges(gx, pos, nodelist=gx.edges)\n",
    "#plt.show() # if gui backend is supported\n",
    "#plt.savefig(\"mygraph.png\")\n",
    "\n",
    "### output objective_value & variable_values as json file in s3 bucket subfolder ###\n",
    "import json\n",
    "import boto3\n",
    "\n",
    "#create objective_value dict \n",
    "objective_value = {\"objective value\":m.objectiveValue}\n",
    "#create objective_value df \n",
    "objective_value_df = pd.DataFrame(objective_value.items())\n",
    "\n",
    "#create variable_values dict \n",
    "variable_values = {}\n",
    "for var in m.vars:\n",
    "    if var.x > 0:\n",
    "        variable_values[var.name] = var.x\n",
    "#create variable_values df     \n",
    "variable_values_df = pd.DataFrame(variable_values.items())    \n",
    "\n",
    "# Create local output directories\n",
    "try:\n",
    "    os.makedirs(\"/opt/ml/processing/output/objective_value\")\n",
    "    os.makedirs(\"/opt/ml/processing/output/variable_values\")\n",
    "    os.makedirs(\"/opt/ml/processing/output/mygraph\")\n",
    "    print(\"Successfully created directories\")\n",
    "except Exception as e:\n",
    "    # if the Processing call already creates these directories (or directory otherwise cannot be created)\n",
    "    print(e)\n",
    "    print(\"Could Not Make Directories\")\n",
    "    pass\n",
    "\n",
    "# Save data locally\n",
    "try:\n",
    "    objective_value_df.to_csv(\"/opt/ml/processing/output/objective_value/objective_value.csv\",index=False)\n",
    "    variable_values_df.to_csv(\"/opt/ml/processing/output/variable_values/variable_values.csv\",index=False)\n",
    "    plt.savefig(\"/opt/ml/processing/output/mygraph/{}-{}-graph\".format(args['alias'], args['instance']))\n",
    "    print(\"Files Successfully Written\")\n",
    "except Exception as e:\n",
    "    print(\"Could Not Write the Files\")\n",
    "    print(e)\n",
    "    pass\n",
    "\n",
    "print(\"Finished running processing job\")"
   ]
  },
  {
   "cell_type": "code",
   "execution_count": null,
   "metadata": {
    "scrolled": false
   },
   "outputs": [],
   "source": [
    "#SET alias\n",
    "alias = 'solomon-1987-r1'\n",
    "#SET instance_name\n",
    "instance_name = 'R102_025'\n",
    "#SET destination bucket for output\n",
    "output_bucket = 'flowty-sagemaker'\n",
    "\n",
    "script_processor.run(code='processing.py',\n",
    "                     arguments=['alias', alias,\n",
    "                                'instance', instance_name\n",
    "                               ],\n",
    "                     outputs=[ProcessingOutput(source='/opt/ml/processing/output/objective_value', destination='s3://{}'.format(output_bucket)),\n",
    "                              ProcessingOutput(source='/opt/ml/processing/output/variable_values', destination='s3://{}'.format(output_bucket)),\n",
    "                              ProcessingOutput(source='/opt/ml/processing/output/mygraph', destination='s3://{}'.format(output_bucket)),\n",
    "                             ],\n",
    "                    )"
   ]
  },
  {
   "cell_type": "code",
   "execution_count": null,
   "metadata": {},
   "outputs": [],
   "source": [
    "##output objective_value\n",
    "import pandas as pd\n",
    "objective_value = pd.read_csv('s3://' + output_bucket + '/objective_value.csv')\n",
    "objective_value"
   ]
  },
  {
   "cell_type": "code",
   "execution_count": null,
   "metadata": {
    "scrolled": true
   },
   "outputs": [],
   "source": [
    "#output variable_values\n",
    "variable_values = pd.read_csv('s3://' + output_bucket + '/variable_values.csv')\n",
    "variable_values"
   ]
  },
  {
   "cell_type": "code",
   "execution_count": null,
   "metadata": {
    "scrolled": true
   },
   "outputs": [],
   "source": [
    "#display graph\n",
    "import boto3\n",
    "import botocore\n",
    "from IPython import display\n",
    "\n",
    "bucket_name = output_bucket\n",
    "key = alias +\"-\"+ instance_name +\"-graph.png\" \n",
    "file_name = alias +\"-\"+ instance_name +\"-graph.png\"\n",
    "\n",
    "s3 = boto3.resource('s3')\n",
    "\n",
    "try:\n",
    "    s3.Bucket(bucket_name).download_file(key, file_name)\n",
    "except botocore.exceptions.ClientError as e:\n",
    "    if e.response['Error']['Code'] == \"404\":\n",
    "        print(\"The object does not exist.\")\n",
    "    else:\n",
    "        raise\n",
    "\n",
    "display.Image(file_name)"
   ]
  }
 ],
 "metadata": {
  "kernelspec": {
   "display_name": "Python 3",
   "language": "python",
   "name": "python3"
  },
  "language_info": {
   "codemirror_mode": {
    "name": "ipython",
    "version": 3
   },
   "file_extension": ".py",
   "mimetype": "text/x-python",
   "name": "python",
   "nbconvert_exporter": "python",
   "pygments_lexer": "ipython3",
   "version": "3.7.6"
  }
 },
 "nbformat": 4,
 "nbformat_minor": 4
}
