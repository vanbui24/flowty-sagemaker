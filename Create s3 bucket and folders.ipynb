{
 "cells": [
  {
   "cell_type": "code",
   "execution_count": null,
   "metadata": {},
   "outputs": [],
   "source": [
    "import boto3\n",
    "import json"
   ]
  },
  {
   "cell_type": "code",
   "execution_count": null,
   "metadata": {},
   "outputs": [],
   "source": [
    "#initiate s3 session\n",
    "s3_client = boto3.client('s3'\n",
    ")"
   ]
  },
  {
   "cell_type": "code",
   "execution_count": null,
   "metadata": {},
   "outputs": [],
   "source": [
    "#provide unique bucket name\n",
    "bucket_name=\"flowty-sagemaker\"\n",
    "\n",
    "#create bucket\n",
    "s3_client.create_bucket(Bucket=bucket_name, CreateBucketConfiguration={'LocationConstraint': 'eu-north-1'})"
   ]
  },
  {
   "cell_type": "code",
   "execution_count": null,
   "metadata": {},
   "outputs": [],
   "source": [
    "#create input folder\n",
    "folder_name = \"input\" \n",
    "\n",
    "s3_client.put_object(Bucket=bucket_name, Key=(folder_name+'/'))"
   ]
  },
  {
   "cell_type": "code",
   "execution_count": null,
   "metadata": {},
   "outputs": [],
   "source": [
    "#create output folder\n",
    "folder_name = \"output\" \n",
    "\n",
    "s3_client.put_object(Bucket=bucket_name, Key=(folder_name+'/'))"
   ]
  },
  {
   "cell_type": "code",
   "execution_count": null,
   "metadata": {},
   "outputs": [],
   "source": [
    "#input instance data\n",
    "instance_data = {\"solomon-1987-r1\":\"R102_025\"}\n",
    "\n",
    "#upload json with instance data\n",
    "s3_client.put_object(\n",
    "     Body=str(json.dumps(instance_data, indent=4)),\n",
    "     Bucket=bucket_name,\n",
    "     Key='input/inputdata.json'\n",
    ")"
   ]
  },
  {
   "cell_type": "code",
   "execution_count": null,
   "metadata": {},
   "outputs": [],
   "source": []
  },
  {
   "cell_type": "code",
   "execution_count": null,
   "metadata": {},
   "outputs": [],
   "source": []
  }
 ],
 "metadata": {
  "kernelspec": {
   "display_name": "Python 3",
   "language": "python",
   "name": "python3"
  },
  "language_info": {
   "codemirror_mode": {
    "name": "ipython",
    "version": 3
   },
   "file_extension": ".py",
   "mimetype": "text/x-python",
   "name": "python",
   "nbconvert_exporter": "python",
   "pygments_lexer": "ipython3",
   "version": "3.7.6"
  }
 },
 "nbformat": 4,
 "nbformat_minor": 4
}
